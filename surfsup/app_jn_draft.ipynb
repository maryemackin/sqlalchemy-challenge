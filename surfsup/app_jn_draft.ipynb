{
 "cells": [
  {
   "cell_type": "code",
   "execution_count": 1,
   "id": "27c0db02-f0e4-42ac-8fd2-5add18d9cef3",
   "metadata": {},
   "outputs": [],
   "source": [
    "# Import the dependencies\n",
    "import datetime as dt\n",
    "import numpy as np\n",
    "\n",
    "# Python SQL toolkit and Object Relational Mapper\n",
    "import sqlalchemy\n",
    "from sqlalchemy.ext.automap import automap_base\n",
    "from sqlalchemy.orm import Session\n",
    "from sqlalchemy import create_engine, func\n",
    "\n",
    "from flask import Flask, jsonify"
   ]
  },
  {
   "cell_type": "code",
   "execution_count": 2,
   "id": "11004aec-1e53-4817-b5db-120a3187c34c",
   "metadata": {},
   "outputs": [],
   "source": [
    "# reflect an existing database into a new model\n",
    "engine = create_engine(\"sqlite:///Resources/hawaii.sqlite\")"
   ]
  },
  {
   "cell_type": "code",
   "execution_count": 3,
   "id": "bfc016e2-b3da-4a25-bdb6-9556827bb3ac",
   "metadata": {},
   "outputs": [],
   "source": [
    "# reflect the tables\n",
    "Base = automap_base()\n",
    "Base.prepare(engine)"
   ]
  },
  {
   "cell_type": "code",
   "execution_count": 4,
   "id": "8f546bc4-9dc5-4cca-9eab-d0630ab3fa89",
   "metadata": {},
   "outputs": [],
   "source": [
    "# Save references to each table\n",
    "Measurement = Base.classes.measurement\n",
    "Station = Base.classes.station"
   ]
  },
  {
   "cell_type": "code",
   "execution_count": 5,
   "id": "e787b72a-6880-4e9a-bcda-4b9b252cd717",
   "metadata": {},
   "outputs": [
    {
     "data": {
      "text/plain": [
       "['station', 'measurement']"
      ]
     },
     "execution_count": 5,
     "metadata": {},
     "output_type": "execute_result"
    }
   ],
   "source": [
    "# View all of the classes that automap found\n",
    "Base.classes.keys()"
   ]
  },
  {
   "cell_type": "code",
   "execution_count": 6,
   "id": "e6567e62-8cde-4f24-96e4-02dc2c5157b6",
   "metadata": {},
   "outputs": [],
   "source": [
    "# Create our session (link) from Python to the DB\n",
    "session = Session(engine)"
   ]
  },
  {
   "cell_type": "code",
   "execution_count": 7,
   "id": "d9bfe9d5-3120-4510-a5f3-b9ce8d64d5fd",
   "metadata": {},
   "outputs": [],
   "source": [
    "# Flask Setup\n",
    "app = Flask(__name__)"
   ]
  },
  {
   "cell_type": "code",
   "execution_count": 8,
   "id": "26c888b3-ae88-45d0-ae1d-0675b8f05b1d",
   "metadata": {},
   "outputs": [],
   "source": [
    "# Flask Routes\n",
    "@app.route(\"/\")\n",
    "def welcome():\n",
    "    return (\n",
    "        f\"Welcome to the Hawaii Climate Analysis API<br/>\"\n",
    "        f\"Available Routes:<br/>\"\n",
    "        f\"/api/v1.0/precipitation<br/>\"\n",
    "        f\"/api/v1.0/stations<br/>\"\n",
    "        f\"/api/v1.0/tobs<br/>\"\n",
    "        f\"/api/v1.0/temp/start<br/>\"\n",
    "        f\"/api/v1.0/temp/end<br/>\"\n",
    "        f\">p>'start' and 'end'date should be in the format MMDDYYY.</p>\"\n",
    "    )\n",
    "@app.route(\"/api/v1.0/precipitation\")\n",
    "def precipitation():\n",
    "\n",
    "    last_year = dt.date(2017,8,23) - dt.timedelta(days=365)\n",
    "\n",
    "    precipitation = session.query(Measurement.date, Measurement.prcp).\\\n",
    "        filter(Measurement.date >= last_year).all()\n",
    "    \n",
    "    session.close()\n",
    "\n",
    "    precip = {date: prcp for date, prcp in precipitation}\n",
    "\n",
    "    return jsonify(precip)\n",
    "\n",
    "@app.route(\"/api/v1.0/stations\")\n",
    "def stations():\n",
    "    station_results = session.query(Station.station).all()\n",
    "\n",
    "    session.close()\n",
    "\n",
    "    stations = list(np.ravel(station_results))\n",
    "\n",
    "    return jsonify(stations=stations)\n",
    "\n",
    "@app.route(\"/api/v1.0/tobs\")\n",
    "def t_monthly():\n",
    "    last_year = dt.date(2017,8,23) - dt.timedelta(days=365)\n",
    "\n",
    "    temp_st_results = session.query(Measurement.tobs).\\\n",
    "        filter(Measurement.station == 'USC00519281').\\\n",
    "        filter(Measurement.date <= last_year).all()\n",
    "\n",
    "    session.close()\n",
    "\n",
    "    temps = list(np.ravel(temp_st_results))\n",
    "\n",
    "    return jsonify(temps=temps)\n",
    "\n",
    "# code verified to this point"
   ]
  },
  {
   "cell_type": "code",
   "execution_count": 10,
   "id": "10c92ed6-1334-4f5f-9472-bea14e3adbcb",
   "metadata": {},
   "outputs": [],
   "source": [
    "@app.route(\"/api/v1.0/temp/<start>\")\n",
    "@app.route(\"/api/v1.0/temp/<start>/<end>\")\n",
    "def stats(start=None, end=None):\n",
    "\n",
    "    sel = [func.min(Measurement.tobs), func.avg(Measurement.tobs), func.max(Measurement.tobs)]\n",
    "\n",
    "    if not end:\n",
    "        start = dt.datetime.strptime(start, \"%m%d%Y\")\n",
    "        start_results = session.query(*sel).\\\n",
    "            filter(Measurement.date <= start).all()\n",
    "        \n",
    "        session.close()\n",
    "\n",
    "        temps = list(np.ravel(start_results))\n",
    "        return jsonify(temps)\n",
    "    \n",
    "    start = dt.datetime.strptime(start, \"%m%d%Y\")\n",
    "    end = dt.datetime.strptime(end, \"%m%d%Y\")\n",
    "\n",
    "    results = session.query(*sel).\\\n",
    "        filter(Measurement.date >= start),\\\n",
    "        filter(Measurement.date <= end)\n",
    "\n",
    "    session.close()\n",
    "\n",
    "    temps = list(np.ravel(results))\n",
    "\n",
    "    return jsonify(temps=temps)"
   ]
  },
  {
   "cell_type": "code",
   "execution_count": null,
   "id": "f05ec777-789f-4aca-a390-c7d2523d5bf0",
   "metadata": {},
   "outputs": [],
   "source": [
    "if __name__ == \"__main__\":\n",
    "\n",
    "    app.run(debug=True)"
   ]
  }
 ],
 "metadata": {
  "kernelspec": {
   "display_name": "Python 3 (ipykernel)",
   "language": "python",
   "name": "python3"
  },
  "language_info": {
   "codemirror_mode": {
    "name": "ipython",
    "version": 3
   },
   "file_extension": ".py",
   "mimetype": "text/x-python",
   "name": "python",
   "nbconvert_exporter": "python",
   "pygments_lexer": "ipython3",
   "version": "3.11.7"
  }
 },
 "nbformat": 4,
 "nbformat_minor": 5
}
